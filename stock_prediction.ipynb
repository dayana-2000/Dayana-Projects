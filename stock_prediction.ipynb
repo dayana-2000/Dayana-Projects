{
  "nbformat": 4,
  "nbformat_minor": 0,
  "metadata": {
    "colab": {
      "provenance": []
    },
    "kernelspec": {
      "name": "python3",
      "display_name": "Python 3"
    },
    "language_info": {
      "name": "python"
    }
  },
  "cells": [
    {
      "cell_type": "code",
      "execution_count": null,
      "metadata": {
        "id": "GZjUO1Q2HjKR"
      },
      "outputs": [],
      "source": [
        "import pandas as pd\n",
        "import numpy as np\n",
        "from datetime import datetime\n",
        "\n",
        "from sklearn.linear_model import LinearRegression\n",
        "from sklearn.metrics import mean_squared_error\n",
        "from sklearn.ensemble import RandomForestRegressor\n",
        "\n",
        "import matplotlib.pyplot as plt\n",
        "import seaborn as sns"
      ]
    },
    {
      "cell_type": "code",
      "source": [
        "sphist = pd.read_csv('/content/sample_data/sphist.csv')\n",
        "print(sphist.describe())\n",
        "print(\"\\ndf shape: \", sphist.shape)\n",
        "sphist.head()"
      ],
      "metadata": {
        "colab": {
          "base_uri": "https://localhost:8080/",
          "height": 571
        },
        "id": "D63lrixgI1n2",
        "outputId": "c1b3b293-c0c9-444d-deb3-fbe01c59ea71"
      },
      "execution_count": null,
      "outputs": [
        {
          "output_type": "stream",
          "name": "stdout",
          "text": [
            "               Open          High           Low         Close        Volume  \\\n",
            "count  16590.000000  16590.000000  16590.000000  16590.000000  1.659000e+04   \n",
            "mean     482.570941    485.624237    479.367501    482.692491  7.940099e+08   \n",
            "std      554.889186    558.186049    551.367625    555.007904  1.456582e+09   \n",
            "min       16.660000     16.660000     16.660000     16.660000  6.800000e+05   \n",
            "25%       83.860001     84.594997     83.139997     83.860001  7.610000e+06   \n",
            "50%      144.049996    145.294998    143.105004    144.264999  7.170500e+07   \n",
            "75%      950.722488    956.665024    941.969986    950.797500  7.866750e+08   \n",
            "max     2130.360107   2134.719971   2126.060059   2130.820068  1.145623e+10   \n",
            "\n",
            "          Adj Close  \n",
            "count  16590.000000  \n",
            "mean     482.692491  \n",
            "std      555.007904  \n",
            "min       16.660000  \n",
            "25%       83.860001  \n",
            "50%      144.264999  \n",
            "75%      950.797500  \n",
            "max     2130.820068  \n",
            "\n",
            "df shape:  (16590, 7)\n"
          ]
        },
        {
          "output_type": "execute_result",
          "data": {
            "text/plain": [
              "         Date         Open         High          Low        Close  \\\n",
              "0  2015-12-07  2090.419922  2090.419922  2066.780029  2077.070068   \n",
              "1  2015-12-04  2051.239990  2093.840088  2051.239990  2091.689941   \n",
              "2  2015-12-03  2080.709961  2085.000000  2042.349976  2049.620117   \n",
              "3  2015-12-02  2101.709961  2104.270020  2077.110107  2079.510010   \n",
              "4  2015-12-01  2082.929932  2103.370117  2082.929932  2102.629883   \n",
              "\n",
              "         Volume    Adj Close  \n",
              "0  4.043820e+09  2077.070068  \n",
              "1  4.214910e+09  2091.689941  \n",
              "2  4.306490e+09  2049.620117  \n",
              "3  3.950640e+09  2079.510010  \n",
              "4  3.712120e+09  2102.629883  "
            ],
            "text/html": [
              "\n",
              "  <div id=\"df-e600f1eb-f303-48cf-ac84-1e9642844c88\">\n",
              "    <div class=\"colab-df-container\">\n",
              "      <div>\n",
              "<style scoped>\n",
              "    .dataframe tbody tr th:only-of-type {\n",
              "        vertical-align: middle;\n",
              "    }\n",
              "\n",
              "    .dataframe tbody tr th {\n",
              "        vertical-align: top;\n",
              "    }\n",
              "\n",
              "    .dataframe thead th {\n",
              "        text-align: right;\n",
              "    }\n",
              "</style>\n",
              "<table border=\"1\" class=\"dataframe\">\n",
              "  <thead>\n",
              "    <tr style=\"text-align: right;\">\n",
              "      <th></th>\n",
              "      <th>Date</th>\n",
              "      <th>Open</th>\n",
              "      <th>High</th>\n",
              "      <th>Low</th>\n",
              "      <th>Close</th>\n",
              "      <th>Volume</th>\n",
              "      <th>Adj Close</th>\n",
              "    </tr>\n",
              "  </thead>\n",
              "  <tbody>\n",
              "    <tr>\n",
              "      <th>0</th>\n",
              "      <td>2015-12-07</td>\n",
              "      <td>2090.419922</td>\n",
              "      <td>2090.419922</td>\n",
              "      <td>2066.780029</td>\n",
              "      <td>2077.070068</td>\n",
              "      <td>4.043820e+09</td>\n",
              "      <td>2077.070068</td>\n",
              "    </tr>\n",
              "    <tr>\n",
              "      <th>1</th>\n",
              "      <td>2015-12-04</td>\n",
              "      <td>2051.239990</td>\n",
              "      <td>2093.840088</td>\n",
              "      <td>2051.239990</td>\n",
              "      <td>2091.689941</td>\n",
              "      <td>4.214910e+09</td>\n",
              "      <td>2091.689941</td>\n",
              "    </tr>\n",
              "    <tr>\n",
              "      <th>2</th>\n",
              "      <td>2015-12-03</td>\n",
              "      <td>2080.709961</td>\n",
              "      <td>2085.000000</td>\n",
              "      <td>2042.349976</td>\n",
              "      <td>2049.620117</td>\n",
              "      <td>4.306490e+09</td>\n",
              "      <td>2049.620117</td>\n",
              "    </tr>\n",
              "    <tr>\n",
              "      <th>3</th>\n",
              "      <td>2015-12-02</td>\n",
              "      <td>2101.709961</td>\n",
              "      <td>2104.270020</td>\n",
              "      <td>2077.110107</td>\n",
              "      <td>2079.510010</td>\n",
              "      <td>3.950640e+09</td>\n",
              "      <td>2079.510010</td>\n",
              "    </tr>\n",
              "    <tr>\n",
              "      <th>4</th>\n",
              "      <td>2015-12-01</td>\n",
              "      <td>2082.929932</td>\n",
              "      <td>2103.370117</td>\n",
              "      <td>2082.929932</td>\n",
              "      <td>2102.629883</td>\n",
              "      <td>3.712120e+09</td>\n",
              "      <td>2102.629883</td>\n",
              "    </tr>\n",
              "  </tbody>\n",
              "</table>\n",
              "</div>\n",
              "      <button class=\"colab-df-convert\" onclick=\"convertToInteractive('df-e600f1eb-f303-48cf-ac84-1e9642844c88')\"\n",
              "              title=\"Convert this dataframe to an interactive table.\"\n",
              "              style=\"display:none;\">\n",
              "        \n",
              "  <svg xmlns=\"http://www.w3.org/2000/svg\" height=\"24px\"viewBox=\"0 0 24 24\"\n",
              "       width=\"24px\">\n",
              "    <path d=\"M0 0h24v24H0V0z\" fill=\"none\"/>\n",
              "    <path d=\"M18.56 5.44l.94 2.06.94-2.06 2.06-.94-2.06-.94-.94-2.06-.94 2.06-2.06.94zm-11 1L8.5 8.5l.94-2.06 2.06-.94-2.06-.94L8.5 2.5l-.94 2.06-2.06.94zm10 10l.94 2.06.94-2.06 2.06-.94-2.06-.94-.94-2.06-.94 2.06-2.06.94z\"/><path d=\"M17.41 7.96l-1.37-1.37c-.4-.4-.92-.59-1.43-.59-.52 0-1.04.2-1.43.59L10.3 9.45l-7.72 7.72c-.78.78-.78 2.05 0 2.83L4 21.41c.39.39.9.59 1.41.59.51 0 1.02-.2 1.41-.59l7.78-7.78 2.81-2.81c.8-.78.8-2.07 0-2.86zM5.41 20L4 18.59l7.72-7.72 1.47 1.35L5.41 20z\"/>\n",
              "  </svg>\n",
              "      </button>\n",
              "      \n",
              "  <style>\n",
              "    .colab-df-container {\n",
              "      display:flex;\n",
              "      flex-wrap:wrap;\n",
              "      gap: 12px;\n",
              "    }\n",
              "\n",
              "    .colab-df-convert {\n",
              "      background-color: #E8F0FE;\n",
              "      border: none;\n",
              "      border-radius: 50%;\n",
              "      cursor: pointer;\n",
              "      display: none;\n",
              "      fill: #1967D2;\n",
              "      height: 32px;\n",
              "      padding: 0 0 0 0;\n",
              "      width: 32px;\n",
              "    }\n",
              "\n",
              "    .colab-df-convert:hover {\n",
              "      background-color: #E2EBFA;\n",
              "      box-shadow: 0px 1px 2px rgba(60, 64, 67, 0.3), 0px 1px 3px 1px rgba(60, 64, 67, 0.15);\n",
              "      fill: #174EA6;\n",
              "    }\n",
              "\n",
              "    [theme=dark] .colab-df-convert {\n",
              "      background-color: #3B4455;\n",
              "      fill: #D2E3FC;\n",
              "    }\n",
              "\n",
              "    [theme=dark] .colab-df-convert:hover {\n",
              "      background-color: #434B5C;\n",
              "      box-shadow: 0px 1px 3px 1px rgba(0, 0, 0, 0.15);\n",
              "      filter: drop-shadow(0px 1px 2px rgba(0, 0, 0, 0.3));\n",
              "      fill: #FFFFFF;\n",
              "    }\n",
              "  </style>\n",
              "\n",
              "      <script>\n",
              "        const buttonEl =\n",
              "          document.querySelector('#df-e600f1eb-f303-48cf-ac84-1e9642844c88 button.colab-df-convert');\n",
              "        buttonEl.style.display =\n",
              "          google.colab.kernel.accessAllowed ? 'block' : 'none';\n",
              "\n",
              "        async function convertToInteractive(key) {\n",
              "          const element = document.querySelector('#df-e600f1eb-f303-48cf-ac84-1e9642844c88');\n",
              "          const dataTable =\n",
              "            await google.colab.kernel.invokeFunction('convertToInteractive',\n",
              "                                                     [key], {});\n",
              "          if (!dataTable) return;\n",
              "\n",
              "          const docLinkHtml = 'Like what you see? Visit the ' +\n",
              "            '<a target=\"_blank\" href=https://colab.research.google.com/notebooks/data_table.ipynb>data table notebook</a>'\n",
              "            + ' to learn more about interactive tables.';\n",
              "          element.innerHTML = '';\n",
              "          dataTable['output_type'] = 'display_data';\n",
              "          await google.colab.output.renderOutput(dataTable, element);\n",
              "          const docLink = document.createElement('div');\n",
              "          docLink.innerHTML = docLinkHtml;\n",
              "          element.appendChild(docLink);\n",
              "        }\n",
              "      </script>\n",
              "    </div>\n",
              "  </div>\n",
              "  "
            ]
          },
          "metadata": {},
          "execution_count": 2
        }
      ]
    },
    {
      "cell_type": "code",
      "source": [
        "sphist['Date'] = pd.to_datetime(sphist['Date'])\n",
        "\n",
        "# Sort df by that column\n",
        "sphist.sort_values(by=['Date'], inplace=True)\n",
        "sphist.head()"
      ],
      "metadata": {
        "colab": {
          "base_uri": "https://localhost:8080/",
          "height": 206
        },
        "id": "JZU6YXETI1pW",
        "outputId": "a4efb228-c616-46b8-e267-9713fe41b0d4"
      },
      "execution_count": null,
      "outputs": [
        {
          "output_type": "execute_result",
          "data": {
            "text/plain": [
              "            Date   Open   High    Low  Close     Volume  Adj Close\n",
              "16589 1950-01-03  16.66  16.66  16.66  16.66  1260000.0      16.66\n",
              "16588 1950-01-04  16.85  16.85  16.85  16.85  1890000.0      16.85\n",
              "16587 1950-01-05  16.93  16.93  16.93  16.93  2550000.0      16.93\n",
              "16586 1950-01-06  16.98  16.98  16.98  16.98  2010000.0      16.98\n",
              "16585 1950-01-09  17.08  17.08  17.08  17.08  2520000.0      17.08"
            ],
            "text/html": [
              "\n",
              "  <div id=\"df-777453fb-835d-43dc-a727-4f3fbd38a714\">\n",
              "    <div class=\"colab-df-container\">\n",
              "      <div>\n",
              "<style scoped>\n",
              "    .dataframe tbody tr th:only-of-type {\n",
              "        vertical-align: middle;\n",
              "    }\n",
              "\n",
              "    .dataframe tbody tr th {\n",
              "        vertical-align: top;\n",
              "    }\n",
              "\n",
              "    .dataframe thead th {\n",
              "        text-align: right;\n",
              "    }\n",
              "</style>\n",
              "<table border=\"1\" class=\"dataframe\">\n",
              "  <thead>\n",
              "    <tr style=\"text-align: right;\">\n",
              "      <th></th>\n",
              "      <th>Date</th>\n",
              "      <th>Open</th>\n",
              "      <th>High</th>\n",
              "      <th>Low</th>\n",
              "      <th>Close</th>\n",
              "      <th>Volume</th>\n",
              "      <th>Adj Close</th>\n",
              "    </tr>\n",
              "  </thead>\n",
              "  <tbody>\n",
              "    <tr>\n",
              "      <th>16589</th>\n",
              "      <td>1950-01-03</td>\n",
              "      <td>16.66</td>\n",
              "      <td>16.66</td>\n",
              "      <td>16.66</td>\n",
              "      <td>16.66</td>\n",
              "      <td>1260000.0</td>\n",
              "      <td>16.66</td>\n",
              "    </tr>\n",
              "    <tr>\n",
              "      <th>16588</th>\n",
              "      <td>1950-01-04</td>\n",
              "      <td>16.85</td>\n",
              "      <td>16.85</td>\n",
              "      <td>16.85</td>\n",
              "      <td>16.85</td>\n",
              "      <td>1890000.0</td>\n",
              "      <td>16.85</td>\n",
              "    </tr>\n",
              "    <tr>\n",
              "      <th>16587</th>\n",
              "      <td>1950-01-05</td>\n",
              "      <td>16.93</td>\n",
              "      <td>16.93</td>\n",
              "      <td>16.93</td>\n",
              "      <td>16.93</td>\n",
              "      <td>2550000.0</td>\n",
              "      <td>16.93</td>\n",
              "    </tr>\n",
              "    <tr>\n",
              "      <th>16586</th>\n",
              "      <td>1950-01-06</td>\n",
              "      <td>16.98</td>\n",
              "      <td>16.98</td>\n",
              "      <td>16.98</td>\n",
              "      <td>16.98</td>\n",
              "      <td>2010000.0</td>\n",
              "      <td>16.98</td>\n",
              "    </tr>\n",
              "    <tr>\n",
              "      <th>16585</th>\n",
              "      <td>1950-01-09</td>\n",
              "      <td>17.08</td>\n",
              "      <td>17.08</td>\n",
              "      <td>17.08</td>\n",
              "      <td>17.08</td>\n",
              "      <td>2520000.0</td>\n",
              "      <td>17.08</td>\n",
              "    </tr>\n",
              "  </tbody>\n",
              "</table>\n",
              "</div>\n",
              "      <button class=\"colab-df-convert\" onclick=\"convertToInteractive('df-777453fb-835d-43dc-a727-4f3fbd38a714')\"\n",
              "              title=\"Convert this dataframe to an interactive table.\"\n",
              "              style=\"display:none;\">\n",
              "        \n",
              "  <svg xmlns=\"http://www.w3.org/2000/svg\" height=\"24px\"viewBox=\"0 0 24 24\"\n",
              "       width=\"24px\">\n",
              "    <path d=\"M0 0h24v24H0V0z\" fill=\"none\"/>\n",
              "    <path d=\"M18.56 5.44l.94 2.06.94-2.06 2.06-.94-2.06-.94-.94-2.06-.94 2.06-2.06.94zm-11 1L8.5 8.5l.94-2.06 2.06-.94-2.06-.94L8.5 2.5l-.94 2.06-2.06.94zm10 10l.94 2.06.94-2.06 2.06-.94-2.06-.94-.94-2.06-.94 2.06-2.06.94z\"/><path d=\"M17.41 7.96l-1.37-1.37c-.4-.4-.92-.59-1.43-.59-.52 0-1.04.2-1.43.59L10.3 9.45l-7.72 7.72c-.78.78-.78 2.05 0 2.83L4 21.41c.39.39.9.59 1.41.59.51 0 1.02-.2 1.41-.59l7.78-7.78 2.81-2.81c.8-.78.8-2.07 0-2.86zM5.41 20L4 18.59l7.72-7.72 1.47 1.35L5.41 20z\"/>\n",
              "  </svg>\n",
              "      </button>\n",
              "      \n",
              "  <style>\n",
              "    .colab-df-container {\n",
              "      display:flex;\n",
              "      flex-wrap:wrap;\n",
              "      gap: 12px;\n",
              "    }\n",
              "\n",
              "    .colab-df-convert {\n",
              "      background-color: #E8F0FE;\n",
              "      border: none;\n",
              "      border-radius: 50%;\n",
              "      cursor: pointer;\n",
              "      display: none;\n",
              "      fill: #1967D2;\n",
              "      height: 32px;\n",
              "      padding: 0 0 0 0;\n",
              "      width: 32px;\n",
              "    }\n",
              "\n",
              "    .colab-df-convert:hover {\n",
              "      background-color: #E2EBFA;\n",
              "      box-shadow: 0px 1px 2px rgba(60, 64, 67, 0.3), 0px 1px 3px 1px rgba(60, 64, 67, 0.15);\n",
              "      fill: #174EA6;\n",
              "    }\n",
              "\n",
              "    [theme=dark] .colab-df-convert {\n",
              "      background-color: #3B4455;\n",
              "      fill: #D2E3FC;\n",
              "    }\n",
              "\n",
              "    [theme=dark] .colab-df-convert:hover {\n",
              "      background-color: #434B5C;\n",
              "      box-shadow: 0px 1px 3px 1px rgba(0, 0, 0, 0.15);\n",
              "      filter: drop-shadow(0px 1px 2px rgba(0, 0, 0, 0.3));\n",
              "      fill: #FFFFFF;\n",
              "    }\n",
              "  </style>\n",
              "\n",
              "      <script>\n",
              "        const buttonEl =\n",
              "          document.querySelector('#df-777453fb-835d-43dc-a727-4f3fbd38a714 button.colab-df-convert');\n",
              "        buttonEl.style.display =\n",
              "          google.colab.kernel.accessAllowed ? 'block' : 'none';\n",
              "\n",
              "        async function convertToInteractive(key) {\n",
              "          const element = document.querySelector('#df-777453fb-835d-43dc-a727-4f3fbd38a714');\n",
              "          const dataTable =\n",
              "            await google.colab.kernel.invokeFunction('convertToInteractive',\n",
              "                                                     [key], {});\n",
              "          if (!dataTable) return;\n",
              "\n",
              "          const docLinkHtml = 'Like what you see? Visit the ' +\n",
              "            '<a target=\"_blank\" href=https://colab.research.google.com/notebooks/data_table.ipynb>data table notebook</a>'\n",
              "            + ' to learn more about interactive tables.';\n",
              "          element.innerHTML = '';\n",
              "          dataTable['output_type'] = 'display_data';\n",
              "          await google.colab.output.renderOutput(dataTable, element);\n",
              "          const docLink = document.createElement('div');\n",
              "          docLink.innerHTML = docLinkHtml;\n",
              "          element.appendChild(docLink);\n",
              "        }\n",
              "      </script>\n",
              "    </div>\n",
              "  </div>\n",
              "  "
            ]
          },
          "metadata": {},
          "execution_count": 3
        }
      ]
    },
    {
      "cell_type": "code",
      "source": [
        "# Add new indicators to each observation:\n",
        "# 1 \n",
        "sphist['avg_price_5'] = sphist['Close'].rolling(5).mean()\n",
        "sphist['avg_price_5'] = sphist['avg_price_5'].shift()"
      ],
      "metadata": {
        "id": "E7aBgwA9I1v2"
      },
      "execution_count": null,
      "outputs": []
    },
    {
      "cell_type": "code",
      "source": [
        "sphist['avg_price_365'] = sphist['Close'].rolling(365).mean()\n",
        "sphist['avg_price_365'] = sphist['avg_price_365'].shift()"
      ],
      "metadata": {
        "id": "xslA9uCjI1xL"
      },
      "execution_count": null,
      "outputs": []
    },
    {
      "cell_type": "code",
      "source": [
        "sphist['avg_price_5_365'] = sphist['avg_price_5'] / sphist['avg_price_365']"
      ],
      "metadata": {
        "id": "Dd18Jqp8I136"
      },
      "execution_count": null,
      "outputs": []
    },
    {
      "cell_type": "code",
      "source": [
        "sphist['std_price_5'] = sphist['Close'].rolling(5).std()\n",
        "sphist['std_price_5'] = sphist['std_price_5'].shift() "
      ],
      "metadata": {
        "id": "ujLHzKhPI15g"
      },
      "execution_count": null,
      "outputs": []
    },
    {
      "cell_type": "code",
      "source": [
        "sphist['std_price_365'] = sphist['Close'].rolling(365).std()\n",
        "sphist['std_price_365'] = sphist['std_price_365'].shift()"
      ],
      "metadata": {
        "id": "3IbwURR4I1-W"
      },
      "execution_count": null,
      "outputs": []
    },
    {
      "cell_type": "code",
      "source": [
        "sphist['std_price_5_365'] = sphist['std_price_5'] / sphist['std_price_365']"
      ],
      "metadata": {
        "id": "Q9kf4LxxI1_7"
      },
      "execution_count": null,
      "outputs": []
    },
    {
      "cell_type": "code",
      "source": [
        "sphist['avg_volume_5'] = sphist['Volume'].rolling(5).mean()\n",
        "sphist['avg_volume_5'] = sphist['avg_volume_5'].shift()"
      ],
      "metadata": {
        "id": "NB1p4D1xJh4l"
      },
      "execution_count": null,
      "outputs": []
    },
    {
      "cell_type": "code",
      "source": [
        "sphist['avg_volume_365'] = sphist['Volume'].rolling(365).mean()\n",
        "sphist['avg_volume_365'] = sphist['avg_volume_365'].shift()"
      ],
      "metadata": {
        "id": "be10WqluJh6G"
      },
      "execution_count": null,
      "outputs": []
    },
    {
      "cell_type": "code",
      "source": [
        "sphist['avg_volume_5_365'] = sphist['avg_volume_5'] / sphist['avg_volume_365']"
      ],
      "metadata": {
        "id": "GSBzkkL1Jh-l"
      },
      "execution_count": null,
      "outputs": []
    },
    {
      "cell_type": "code",
      "source": [
        "min_last_year = sphist['Close'].rolling(365).min()\n",
        "sphist['last_min_current_ratio'] = min_last_year / sphist['Close']\n",
        "sphist['last_min_current_ratio'] = sphist['last_min_current_ratio'].shift()"
      ],
      "metadata": {
        "id": "qPHCpRGrJh_z"
      },
      "execution_count": null,
      "outputs": []
    },
    {
      "cell_type": "code",
      "source": [
        "print(\"# of observations before: \", sphist.shape[0])\n",
        "print(\"NaN values before: \\n\\n\", sphist.isnull().sum())\n",
        "\n",
        "sphist = sphist[sphist['Date'] > datetime(year=1951, month=1, day=2)]\n",
        "sphist.dropna(axis=0, inplace=True)\n",
        "\n",
        "print(\"\\n# of observations after: \", sphist.shape[0])\n",
        "print(\"NaN values after: \\n\\n\", sphist.isnull().sum())"
      ],
      "metadata": {
        "colab": {
          "base_uri": "https://localhost:8080/"
        },
        "id": "d6cx4tPwJiGJ",
        "outputId": "e4e1b076-0d94-4d9a-f9f1-7d980fc588a8"
      },
      "execution_count": null,
      "outputs": [
        {
          "output_type": "stream",
          "name": "stdout",
          "text": [
            "# of observations before:  16590\n",
            "NaN values before: \n",
            "\n",
            " Date                        0\n",
            "Open                        0\n",
            "High                        0\n",
            "Low                         0\n",
            "Close                       0\n",
            "Volume                      0\n",
            "Adj Close                   0\n",
            "avg_price_5                 5\n",
            "avg_price_365             365\n",
            "avg_price_5_365           365\n",
            "std_price_5                 5\n",
            "std_price_365             365\n",
            "std_price_5_365           365\n",
            "avg_volume_5                5\n",
            "avg_volume_365            365\n",
            "avg_volume_5_365          365\n",
            "last_min_current_ratio    365\n",
            "dtype: int64\n",
            "\n",
            "# of observations after:  16225\n",
            "NaN values after: \n",
            "\n",
            " Date                      0\n",
            "Open                      0\n",
            "High                      0\n",
            "Low                       0\n",
            "Close                     0\n",
            "Volume                    0\n",
            "Adj Close                 0\n",
            "avg_price_5               0\n",
            "avg_price_365             0\n",
            "avg_price_5_365           0\n",
            "std_price_5               0\n",
            "std_price_365             0\n",
            "std_price_5_365           0\n",
            "avg_volume_5              0\n",
            "avg_volume_365            0\n",
            "avg_volume_5_365          0\n",
            "last_min_current_ratio    0\n",
            "dtype: int64\n"
          ]
        },
        {
          "output_type": "stream",
          "name": "stderr",
          "text": [
            "/usr/local/lib/python3.7/dist-packages/pandas/util/_decorators.py:311: SettingWithCopyWarning: \n",
            "A value is trying to be set on a copy of a slice from a DataFrame\n",
            "\n",
            "See the caveats in the documentation: https://pandas.pydata.org/pandas-docs/stable/user_guide/indexing.html#returning-a-view-versus-a-copy\n",
            "  return func(*args, **kwargs)\n"
          ]
        }
      ]
    },
    {
      "cell_type": "code",
      "source": [
        "train = sphist[sphist[\"Date\"] < datetime(year=2013, month=1, day=1)]\n",
        "test = sphist[sphist[\"Date\"] >= datetime(year=2013, month=1, day=1)]\n",
        "\n",
        "print(\"Train: \", train.shape)\n",
        "print(\"Test: \", test.shape)"
      ],
      "metadata": {
        "colab": {
          "base_uri": "https://localhost:8080/"
        },
        "id": "JZQhyoNuJvXY",
        "outputId": "d40e6d5f-8419-446f-abbc-ad16cafb35bf"
      },
      "execution_count": null,
      "outputs": [
        {
          "output_type": "stream",
          "name": "stdout",
          "text": [
            "Train:  (15486, 17)\n",
            "Test:  (739, 17)\n"
          ]
        }
      ]
    },
    {
      "cell_type": "code",
      "source": [
        "sorted_corrs = sphist.corr()['Close'].sort_values()\n",
        "\n",
        "print(sorted_corrs)\n",
        "fig, ax = plt.subplots(figsize=(15,10))\n",
        "sns.heatmap(sphist[sorted_corrs.index].corr())"
      ],
      "metadata": {
        "colab": {
          "base_uri": "https://localhost:8080/",
          "height": 1000
        },
        "id": "WUfGuo6PJyc_",
        "outputId": "576dad7c-3b6d-4fcf-ac8d-243795e7cc04"
      },
      "execution_count": null,
      "outputs": [
        {
          "output_type": "stream",
          "name": "stdout",
          "text": [
            "last_min_current_ratio   -0.105400\n",
            "avg_volume_5_365         -0.012305\n",
            "avg_price_5_365           0.047782\n",
            "std_price_5_365           0.087018\n",
            "std_price_5               0.722414\n",
            "Volume                    0.772817\n",
            "avg_volume_5              0.780896\n",
            "avg_volume_365            0.784878\n",
            "std_price_365             0.816103\n",
            "avg_price_365             0.988870\n",
            "avg_price_5               0.999793\n",
            "Open                      0.999900\n",
            "High                      0.999953\n",
            "Low                       0.999956\n",
            "Close                     1.000000\n",
            "Adj Close                 1.000000\n",
            "Name: Close, dtype: float64\n"
          ]
        },
        {
          "output_type": "execute_result",
          "data": {
            "text/plain": [
              "<matplotlib.axes._subplots.AxesSubplot at 0x7f42d06b5a50>"
            ]
          },
          "metadata": {},
          "execution_count": 16
        },
        {
          "output_type": "display_data",
          "data": {
            "text/plain": [
              "<Figure size 1080x720 with 2 Axes>"
            ],
            "image/png": "[encoded data removed]"
          },
          "metadata": {
            "needs_background": "light"
          }
        }
      ]
    },
    {
      "cell_type": "code",
      "source": [
        "features = ['avg_price_5', 'avg_price_365', 'avg_price_5_365', 'std_price_5', \n",
        "            'std_price_365', 'std_price_5_365', 'avg_volume_5', 'avg_volume_365', \n",
        "            'avg_volume_5_365', 'last_min_current_ratio']\n",
        "\n",
        "X_train = train[features]\n",
        "y_train = train['Close']\n",
        "\n",
        "X_test = test[features]\n",
        "y_test = test['Close']"
      ],
      "metadata": {
        "id": "MaulKuuSL_VR"
      },
      "execution_count": null,
      "outputs": []
    },
    {
      "cell_type": "code",
      "source": [
        "# Train\n",
        "lr = LinearRegression()\n",
        "lr.fit(X_train, y_train)\n",
        "\n",
        "# Predict\n",
        "closing_price_pred_lr = lr.predict(X_test)\n",
        "\n",
        "# --------------------------------------------------\n",
        "# Performance metrics\n",
        "# --------------------------------------------------\n",
        "\n",
        "# Calculate MSE\n",
        "mse_lr = mean_squared_error(y_test, closing_price_pred_lr)\n",
        "\n",
        "# Calculate the absolute errors and MAPE\n",
        "errors_lr = abs(closing_price_pred_lr - y_test)\n",
        "mape_lr = 100 * (errors_lr / y_test)\n"
      ],
      "metadata": {
        "id": "WmvQNTe4MFn8"
      },
      "execution_count": null,
      "outputs": []
    },
    {
      "cell_type": "code",
      "source": [
        "# MAE\n",
        "mae_lr = round(np.mean(errors_lr), 2)\n",
        "\n",
        "# Accuracy\n",
        "accuracy_lr = 100 - np.mean(mape_lr)\n",
        "\n",
        "print(\"-----------------\\nLinear regression\\n-----------------\")\n",
        "print(\"MSE: \", mse_lr)\n",
        "print(\"MAE: \", mae_lr, \"degrees\")\n",
        "print('Accuracy:', round(accuracy_lr, 2), '%.')"
      ],
      "metadata": {
        "colab": {
          "base_uri": "https://localhost:8080/"
        },
        "id": "s8jcBY_UMFpl",
        "outputId": "9e35399c-1de7-4f1d-b864-7443e4d57ddb"
      },
      "execution_count": null,
      "outputs": [
        {
          "output_type": "stream",
          "name": "stdout",
          "text": [
            "-----------------\n",
            "Linear regression\n",
            "-----------------\n",
            "MSE:  485.02123708923557\n",
            "MAE:  16.02 degrees\n",
            "Accuracy: 99.15 %.\n"
          ]
        }
      ]
    },
    {
      "cell_type": "code",
      "source": [
        "rf = RandomForestRegressor(n_estimators=150, random_state=1, min_samples_leaf=2)\n",
        "\n",
        "# Train \n",
        "rf.fit(X_train, y_train)\n",
        "\n",
        "# Predict\n",
        "closing_price_pred_rf = rf.predict(X_test)\n",
        "\n",
        "# --------------------------------------------------\n",
        "# Performance metrics\n",
        "# --------------------------------------------------\n",
        "\n",
        "# Calculate the absolute errors and MAPE\n",
        "errors_rf = abs(closing_price_pred_rf - y_test)\n",
        "mape_rf = 100 * (errors_rf / y_test)"
      ],
      "metadata": {
        "id": "VPVA35aUL_W2"
      },
      "execution_count": null,
      "outputs": []
    },
    {
      "cell_type": "code",
      "source": [
        "# MAE\n",
        "mae_rf = round(np.mean(errors_rf), 2)\n",
        "\n",
        "# Accuracy\n",
        "accuracy_rf = 100 - np.mean(mape_rf)\n",
        "\n",
        "print(\"-----------------\\nRandom Forest\\n-----------------\")\n",
        "print(\"MAE: \", mae_rf, \"degrees\")\n",
        "print('Accuracy:', round(accuracy_rf, 2), '%.')"
      ],
      "metadata": {
        "colab": {
          "base_uri": "https://localhost:8080/"
        },
        "id": "B1SB5iNpMPA9",
        "outputId": "7155f9fa-859d-41cd-832f-658107205dce"
      },
      "execution_count": null,
      "outputs": [
        {
          "output_type": "stream",
          "name": "stdout",
          "text": [
            "-----------------\n",
            "Random Forest\n",
            "-----------------\n",
            "MAE:  345.83 degrees\n",
            "Accuracy: 82.47 %.\n"
          ]
        }
      ]
    }
  ]
}