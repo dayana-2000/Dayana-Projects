{
  "cells": [
    {
      "cell_type": "code",
      "execution_count": null,
      "id": "6d6723e5",
      "metadata": {
        "execution": {
          "iopub.execute_input": "2022-08-31T09:00:13.817666Z",
          "iopub.status.busy": "2022-08-31T09:00:13.817259Z",
          "iopub.status.idle": "2022-08-31T09:00:14.767258Z",
          "shell.execute_reply": "2022-08-31T09:00:14.766319Z"
        },
        "papermill": {
          "duration": 0.960645,
          "end_time": "2022-08-31T09:00:14.769606",
          "exception": false,
          "start_time": "2022-08-31T09:00:13.808961",
          "status": "completed"
        },
        "tags": [],
        "id": "6d6723e5"
      },
      "outputs": [],
      "source": [
        "import pandas as pd\n",
        "import numpy as np\n",
        "import matplotlib.pyplot as plt\n",
        "from sklearn import datasets"
      ]
    },
    {
      "cell_type": "markdown",
      "id": "10b78fb6",
      "metadata": {
        "papermill": {
          "duration": 0.005237,
          "end_time": "2022-08-31T09:00:14.780584",
          "exception": false,
          "start_time": "2022-08-31T09:00:14.775347",
          "status": "completed"
        },
        "tags": [],
        "id": "10b78fb6"
      },
      "source": [
        "# Stage 1 : Initialization Stage"
      ]
    },
    {
      "cell_type": "markdown",
      "id": "7c2c63ca",
      "metadata": {
        "papermill": {
          "duration": 0.005057,
          "end_time": "2022-08-31T09:00:14.791003",
          "exception": false,
          "start_time": "2022-08-31T09:00:14.785946",
          "status": "completed"
        },
        "tags": [],
        "id": "7c2c63ca"
      },
      "source": [
        "### Creating dataFrame structure "
      ]
    },
    {
      "cell_type": "code",
      "execution_count": null,
      "id": "25fa1dee",
      "metadata": {
        "execution": {
          "iopub.execute_input": "2022-08-31T09:00:14.803397Z",
          "iopub.status.busy": "2022-08-31T09:00:14.802637Z",
          "iopub.status.idle": "2022-08-31T09:00:14.810912Z",
          "shell.execute_reply": "2022-08-31T09:00:14.810319Z"
        },
        "papermill": {
          "duration": 0.016136,
          "end_time": "2022-08-31T09:00:14.812619",
          "exception": false,
          "start_time": "2022-08-31T09:00:14.796483",
          "status": "completed"
        },
        "tags": [],
        "id": "25fa1dee"
      },
      "outputs": [],
      "source": [
        "iris = datasets.load_iris()"
      ]
    },
    {
      "cell_type": "code",
      "execution_count": null,
      "id": "170fe516",
      "metadata": {
        "execution": {
          "iopub.execute_input": "2022-08-31T09:00:14.824960Z",
          "iopub.status.busy": "2022-08-31T09:00:14.824432Z",
          "iopub.status.idle": "2022-08-31T09:00:14.830806Z",
          "shell.execute_reply": "2022-08-31T09:00:14.830165Z"
        },
        "papermill": {
          "duration": 0.014597,
          "end_time": "2022-08-31T09:00:14.832701",
          "exception": false,
          "start_time": "2022-08-31T09:00:14.818104",
          "status": "completed"
        },
        "tags": [],
        "id": "170fe516"
      },
      "outputs": [],
      "source": [
        "df = pd.DataFrame({\n",
        "    'x': iris.data[:,0],\n",
        "    'y': iris.data[:,1],\n",
        "    'cluster' : iris.target\n",
        "})"
      ]
    },
    {
      "cell_type": "code",
      "execution_count": null,
      "id": "d77dda94",
      "metadata": {
        "execution": {
          "iopub.execute_input": "2022-08-31T09:00:14.844767Z",
          "iopub.status.busy": "2022-08-31T09:00:14.844502Z",
          "iopub.status.idle": "2022-08-31T09:00:14.866313Z",
          "shell.execute_reply": "2022-08-31T09:00:14.865422Z"
        },
        "papermill": {
          "duration": 0.030109,
          "end_time": "2022-08-31T09:00:14.868266",
          "exception": false,
          "start_time": "2022-08-31T09:00:14.838157",
          "status": "completed"
        },
        "tags": [],
        "id": "d77dda94",
        "outputId": "570f93c6-401f-45d7-b584-24a4d83648e8"
      },
      "outputs": [
        {
          "data": {
            "text/html": [
              "<div>\n",
              "<style scoped>\n",
              "    .dataframe tbody tr th:only-of-type {\n",
              "        vertical-align: middle;\n",
              "    }\n",
              "\n",
              "    .dataframe tbody tr th {\n",
              "        vertical-align: top;\n",
              "    }\n",
              "\n",
              "    .dataframe thead th {\n",
              "        text-align: right;\n",
              "    }\n",
              "</style>\n",
              "<table border=\"1\" class=\"dataframe\">\n",
              "  <thead>\n",
              "    <tr style=\"text-align: right;\">\n",
              "      <th></th>\n",
              "      <th>x</th>\n",
              "      <th>y</th>\n",
              "      <th>cluster</th>\n",
              "    </tr>\n",
              "  </thead>\n",
              "  <tbody>\n",
              "    <tr>\n",
              "      <th>0</th>\n",
              "      <td>5.1</td>\n",
              "      <td>3.5</td>\n",
              "      <td>0</td>\n",
              "    </tr>\n",
              "    <tr>\n",
              "      <th>1</th>\n",
              "      <td>4.9</td>\n",
              "      <td>3.0</td>\n",
              "      <td>0</td>\n",
              "    </tr>\n",
              "    <tr>\n",
              "      <th>2</th>\n",
              "      <td>4.7</td>\n",
              "      <td>3.2</td>\n",
              "      <td>0</td>\n",
              "    </tr>\n",
              "    <tr>\n",
              "      <th>3</th>\n",
              "      <td>4.6</td>\n",
              "      <td>3.1</td>\n",
              "      <td>0</td>\n",
              "    </tr>\n",
              "    <tr>\n",
              "      <th>4</th>\n",
              "      <td>5.0</td>\n",
              "      <td>3.6</td>\n",
              "      <td>0</td>\n",
              "    </tr>\n",
              "    <tr>\n",
              "      <th>...</th>\n",
              "      <td>...</td>\n",
              "      <td>...</td>\n",
              "      <td>...</td>\n",
              "    </tr>\n",
              "    <tr>\n",
              "      <th>145</th>\n",
              "      <td>6.7</td>\n",
              "      <td>3.0</td>\n",
              "      <td>2</td>\n",
              "    </tr>\n",
              "    <tr>\n",
              "      <th>146</th>\n",
              "      <td>6.3</td>\n",
              "      <td>2.5</td>\n",
              "      <td>2</td>\n",
              "    </tr>\n",
              "    <tr>\n",
              "      <th>147</th>\n",
              "      <td>6.5</td>\n",
              "      <td>3.0</td>\n",
              "      <td>2</td>\n",
              "    </tr>\n",
              "    <tr>\n",
              "      <th>148</th>\n",
              "      <td>6.2</td>\n",
              "      <td>3.4</td>\n",
              "      <td>2</td>\n",
              "    </tr>\n",
              "    <tr>\n",
              "      <th>149</th>\n",
              "      <td>5.9</td>\n",
              "      <td>3.0</td>\n",
              "      <td>2</td>\n",
              "    </tr>\n",
              "  </tbody>\n",
              "</table>\n",
              "<p>150 rows × 3 columns</p>\n",
              "</div>"
            ],
            "text/plain": [
              "       x    y  cluster\n",
              "0    5.1  3.5        0\n",
              "1    4.9  3.0        0\n",
              "2    4.7  3.2        0\n",
              "3    4.6  3.1        0\n",
              "4    5.0  3.6        0\n",
              "..   ...  ...      ...\n",
              "145  6.7  3.0        2\n",
              "146  6.3  2.5        2\n",
              "147  6.5  3.0        2\n",
              "148  6.2  3.4        2\n",
              "149  5.9  3.0        2\n",
              "\n",
              "[150 rows x 3 columns]"
            ]
          },
          "execution_count": 4,
          "metadata": {},
          "output_type": "execute_result"
        }
      ],
      "source": [
        "df"
      ]
    },
    {
      "cell_type": "code",
      "execution_count": null,
      "id": "360c9840",
      "metadata": {
        "execution": {
          "iopub.execute_input": "2022-08-31T09:00:14.881266Z",
          "iopub.status.busy": "2022-08-31T09:00:14.880987Z",
          "iopub.status.idle": "2022-08-31T09:00:14.894516Z",
          "shell.execute_reply": "2022-08-31T09:00:14.893922Z"
        },
        "papermill": {
          "duration": 0.021953,
          "end_time": "2022-08-31T09:00:14.896292",
          "exception": false,
          "start_time": "2022-08-31T09:00:14.874339",
          "status": "completed"
        },
        "tags": [],
        "id": "360c9840"
      },
      "outputs": [],
      "source": [
        "centroids = {}\n",
        "for i in range(3):\n",
        "    result_list = []\n",
        "    result_list.append(df.loc[df['cluster'] == i]['x'].mean())\n",
        "    result_list.append(df.loc[df['cluster'] == i]['y'].mean())\n",
        "    \n",
        "    centroids[i] = result_list"
      ]
    },
    {
      "cell_type": "code",
      "execution_count": null,
      "id": "8985c059",
      "metadata": {
        "execution": {
          "iopub.execute_input": "2022-08-31T09:00:14.909658Z",
          "iopub.status.busy": "2022-08-31T09:00:14.909147Z",
          "iopub.status.idle": "2022-08-31T09:00:14.913443Z",
          "shell.execute_reply": "2022-08-31T09:00:14.912925Z"
        },
        "papermill": {
          "duration": 0.012737,
          "end_time": "2022-08-31T09:00:14.915040",
          "exception": false,
          "start_time": "2022-08-31T09:00:14.902303",
          "status": "completed"
        },
        "tags": [],
        "id": "8985c059",
        "outputId": "ab1d66bb-8233-4087-f75d-8bc84abb1ce1"
      },
      "outputs": [
        {
          "data": {
            "text/plain": [
              "{0: [5.006, 3.428],\n",
              " 1: [5.936, 2.7700000000000005],\n",
              " 2: [6.587999999999998, 2.974]}"
            ]
          },
          "execution_count": 6,
          "metadata": {},
          "output_type": "execute_result"
        }
      ],
      "source": [
        "centroids"
      ]
    },
    {
      "cell_type": "markdown",
      "id": "10cc6d9c",
      "metadata": {
        "papermill": {
          "duration": 0.005734,
          "end_time": "2022-08-31T09:00:14.926922",
          "exception": false,
          "start_time": "2022-08-31T09:00:14.921188",
          "status": "completed"
        },
        "tags": [],
        "id": "10cc6d9c"
      },
      "source": [
        "### Plotting Points"
      ]
    },
    {
      "cell_type": "code",
      "execution_count": null,
      "id": "18ab73ae",
      "metadata": {
        "execution": {
          "iopub.execute_input": "2022-08-31T09:00:14.940157Z",
          "iopub.status.busy": "2022-08-31T09:00:14.939661Z",
          "iopub.status.idle": "2022-08-31T09:00:15.130619Z",
          "shell.execute_reply": "2022-08-31T09:00:15.129445Z"
        },
        "papermill": {
          "duration": 0.199948,
          "end_time": "2022-08-31T09:00:15.132677",
          "exception": false,
          "start_time": "2022-08-31T09:00:14.932729",
          "status": "completed"
        },
        "tags": [],
        "id": "18ab73ae",
        "outputId": "450f78a4-bbee-4e10-a965-9bef070b8c86"
      },
      "outputs": [
        {
          "data": {
            "text/plain": [
              "Text(0, 0.5, 'Sepal Width')"
            ]
          },
          "execution_count": 7,
          "metadata": {},
          "output_type": "execute_result"
        },
        {
          "data": {
            "image/png": "[encoded data removed]",
            "text/plain": [
              "<Figure size 360x360 with 1 Axes>"
            ]
          },
          "metadata": {
            "needs_background": "light"
          },
          "output_type": "display_data"
        }
      ],
      "source": [
        "fig = plt.figure(figsize=(5, 5))\n",
        "plt.scatter(df['x'], df['y'], c=iris.target)\n",
        "plt.xlabel('Spea1 Length', fontsize=18)\n",
        "plt.ylabel('Sepal Width', fontsize=18)"
      ]
    },
    {
      "cell_type": "markdown",
      "id": "650c9a6a",
      "metadata": {
        "papermill": {
          "duration": 0.006158,
          "end_time": "2022-08-31T09:00:15.146241",
          "exception": false,
          "start_time": "2022-08-31T09:00:15.140083",
          "status": "completed"
        },
        "tags": [],
        "id": "650c9a6a"
      },
      "source": [
        "### Defining colors and ploting centroids for all clusters"
      ]
    },
    {
      "cell_type": "code",
      "execution_count": null,
      "id": "b24498cc",
      "metadata": {
        "execution": {
          "iopub.execute_input": "2022-08-31T09:00:15.161051Z",
          "iopub.status.busy": "2022-08-31T09:00:15.160244Z",
          "iopub.status.idle": "2022-08-31T09:00:15.323241Z",
          "shell.execute_reply": "2022-08-31T09:00:15.321901Z"
        },
        "papermill": {
          "duration": 0.172985,
          "end_time": "2022-08-31T09:00:15.325604",
          "exception": false,
          "start_time": "2022-08-31T09:00:15.152619",
          "status": "completed"
        },
        "tags": [],
        "id": "b24498cc",
        "outputId": "57d0a6e5-09c1-46fa-fa1d-21d43795f696"
      },
      "outputs": [
        {
          "data": {
            "image/png": "[encoded data removed]",
            "text/plain": [
              "<Figure size 432x288 with 1 Axes>"
            ]
          },
          "metadata": {
            "needs_background": "light"
          },
          "output_type": "display_data"
        }
      ],
      "source": [
        "colmap = {0: 'r', 1: 'g', 2: 'b'}\n",
        "for i in range(3):\n",
        "    plt.scatter(centroids[i][0],centroids[i][1], color=colmap[i])\n",
        "plt.show()"
      ]
    },
    {
      "cell_type": "markdown",
      "id": "e1bf4356",
      "metadata": {
        "papermill": {
          "duration": 0.00636,
          "end_time": "2022-08-31T09:00:15.338842",
          "exception": false,
          "start_time": "2022-08-31T09:00:15.332482",
          "status": "completed"
        },
        "tags": [],
        "id": "e1bf4356"
      },
      "source": [
        "### Showing complete graph"
      ]
    },
    {
      "cell_type": "code",
      "execution_count": null,
      "id": "00d1ec65",
      "metadata": {
        "execution": {
          "iopub.execute_input": "2022-08-31T09:00:15.353575Z",
          "iopub.status.busy": "2022-08-31T09:00:15.353260Z",
          "iopub.status.idle": "2022-08-31T09:00:15.510253Z",
          "shell.execute_reply": "2022-08-31T09:00:15.509587Z"
        },
        "papermill": {
          "duration": 0.166388,
          "end_time": "2022-08-31T09:00:15.511866",
          "exception": false,
          "start_time": "2022-08-31T09:00:15.345478",
          "status": "completed"
        },
        "scrolled": true,
        "tags": [],
        "id": "00d1ec65",
        "outputId": "126ef931-3366-4edc-94f7-00b9c60b3440"
      },
      "outputs": [
        {
          "data": {
            "image/png": "[encoded data removed]",
            "text/plain": [
              "<Figure size 360x360 with 1 Axes>"
            ]
          },
          "metadata": {
            "needs_background": "light"
          },
          "output_type": "display_data"
        }
      ],
      "source": [
        "fig = plt.figure(figsize=(5, 5))\n",
        "plt.scatter(df['x'], df['y'], c=iris.target,alpha = 0.3)\n",
        "colmap = {0: 'r', 1: 'g', 2: 'b'}\n",
        "col = [0,1]\n",
        "for i in centroids.keys():\n",
        "    plt.scatter(centroids[i][0],centroids[i][1], c=colmap[i], edgecolor='k')\n",
        "plt.show()"
      ]
    },
    {
      "cell_type": "markdown",
      "id": "5a003d8f",
      "metadata": {
        "papermill": {
          "duration": 0.006903,
          "end_time": "2022-08-31T09:00:15.526002",
          "exception": false,
          "start_time": "2022-08-31T09:00:15.519099",
          "status": "completed"
        },
        "tags": [],
        "id": "5a003d8f"
      },
      "source": [
        "# Stage 2: Assignment Stage"
      ]
    },
    {
      "cell_type": "markdown",
      "id": "35bbcd6d",
      "metadata": {
        "papermill": {
          "duration": 0.006685,
          "end_time": "2022-08-31T09:00:15.539553",
          "exception": false,
          "start_time": "2022-08-31T09:00:15.532868",
          "status": "completed"
        },
        "tags": [],
        "id": "35bbcd6d"
      },
      "source": [
        "### Assignment function : Calculating distance and updating dataFrame"
      ]
    },
    {
      "cell_type": "code",
      "execution_count": null,
      "id": "b294d907",
      "metadata": {
        "execution": {
          "iopub.execute_input": "2022-08-31T09:00:15.555126Z",
          "iopub.status.busy": "2022-08-31T09:00:15.554629Z",
          "iopub.status.idle": "2022-08-31T09:00:15.560666Z",
          "shell.execute_reply": "2022-08-31T09:00:15.560058Z"
        },
        "papermill": {
          "duration": 0.0158,
          "end_time": "2022-08-31T09:00:15.562337",
          "exception": false,
          "start_time": "2022-08-31T09:00:15.546537",
          "status": "completed"
        },
        "tags": [],
        "id": "b294d907"
      },
      "outputs": [],
      "source": [
        "def assignment(df, centroids):\n",
        "    for i in range(3):\n",
        "        # sqrt((x1 - x2)^2 + (y1 - y2)^2)\n",
        "        df['distance_from_{}'.format(i)] = (\n",
        "            np.sqrt(\n",
        "                (df['x'] - centroids[i][0]) ** 2\n",
        "                + (df['y'] - centroids[i][1]) ** 2\n",
        "            )\n",
        "        )\n",
        "    centroid_distance_cols = ['distance_from_{}'.format(i) for i in centroids.keys()]\n",
        "    df['closest'] = df.loc[:, centroid_distance_cols].idxmin(axis=1)\n",
        "    df['closest'] = df['closest'].map(lambda x: int(x.lstrip('distance_from_')))\n",
        "    df['color'] = df['closest'].map(lambda x: colmap[x])\n",
        "    return df"
      ]
    },
    {
      "cell_type": "code",
      "execution_count": null,
      "id": "998f7fd0",
      "metadata": {
        "execution": {
          "iopub.execute_input": "2022-08-31T09:00:15.578258Z",
          "iopub.status.busy": "2022-08-31T09:00:15.577706Z",
          "iopub.status.idle": "2022-08-31T09:00:15.591644Z",
          "shell.execute_reply": "2022-08-31T09:00:15.590950Z"
        },
        "papermill": {
          "duration": 0.02426,
          "end_time": "2022-08-31T09:00:15.593733",
          "exception": false,
          "start_time": "2022-08-31T09:00:15.569473",
          "status": "completed"
        },
        "tags": [],
        "id": "998f7fd0"
      },
      "outputs": [],
      "source": [
        "df = assignment(df, centroids)"
      ]
    },
    {
      "cell_type": "code",
      "execution_count": null,
      "id": "32b74448",
      "metadata": {
        "execution": {
          "iopub.execute_input": "2022-08-31T09:00:15.610265Z",
          "iopub.status.busy": "2022-08-31T09:00:15.609642Z",
          "iopub.status.idle": "2022-08-31T09:00:15.625549Z",
          "shell.execute_reply": "2022-08-31T09:00:15.624819Z"
        },
        "papermill": {
          "duration": 0.026027,
          "end_time": "2022-08-31T09:00:15.627280",
          "exception": false,
          "start_time": "2022-08-31T09:00:15.601253",
          "status": "completed"
        },
        "tags": [],
        "id": "32b74448",
        "outputId": "9761996b-638f-4b82-854b-646655604711"
      },
      "outputs": [
        {
          "data": {
            "text/html": [
              "<div>\n",
              "<style scoped>\n",
              "    .dataframe tbody tr th:only-of-type {\n",
              "        vertical-align: middle;\n",
              "    }\n",
              "\n",
              "    .dataframe tbody tr th {\n",
              "        vertical-align: top;\n",
              "    }\n",
              "\n",
              "    .dataframe thead th {\n",
              "        text-align: right;\n",
              "    }\n",
              "</style>\n",
              "<table border=\"1\" class=\"dataframe\">\n",
              "  <thead>\n",
              "    <tr style=\"text-align: right;\">\n",
              "      <th></th>\n",
              "      <th>x</th>\n",
              "      <th>y</th>\n",
              "      <th>cluster</th>\n",
              "      <th>distance_from_0</th>\n",
              "      <th>distance_from_1</th>\n",
              "      <th>distance_from_2</th>\n",
              "      <th>closest</th>\n",
              "      <th>color</th>\n",
              "    </tr>\n",
              "  </thead>\n",
              "  <tbody>\n",
              "    <tr>\n",
              "      <th>0</th>\n",
              "      <td>5.1</td>\n",
              "      <td>3.5</td>\n",
              "      <td>0</td>\n",
              "      <td>0.118406</td>\n",
              "      <td>1.109863</td>\n",
              "      <td>1.578233</td>\n",
              "      <td>0</td>\n",
              "      <td>r</td>\n",
              "    </tr>\n",
              "    <tr>\n",
              "      <th>1</th>\n",
              "      <td>4.9</td>\n",
              "      <td>3.0</td>\n",
              "      <td>0</td>\n",
              "      <td>0.440931</td>\n",
              "      <td>1.061224</td>\n",
              "      <td>1.688200</td>\n",
              "      <td>0</td>\n",
              "      <td>r</td>\n",
              "    </tr>\n",
              "    <tr>\n",
              "      <th>2</th>\n",
              "      <td>4.7</td>\n",
              "      <td>3.2</td>\n",
              "      <td>0</td>\n",
              "      <td>0.381602</td>\n",
              "      <td>1.308662</td>\n",
              "      <td>1.901478</td>\n",
              "      <td>0</td>\n",
              "      <td>r</td>\n",
              "    </tr>\n",
              "    <tr>\n",
              "      <th>3</th>\n",
              "      <td>4.6</td>\n",
              "      <td>3.1</td>\n",
              "      <td>0</td>\n",
              "      <td>0.521939</td>\n",
              "      <td>1.376153</td>\n",
              "      <td>1.991989</td>\n",
              "      <td>0</td>\n",
              "      <td>r</td>\n",
              "    </tr>\n",
              "    <tr>\n",
              "      <th>4</th>\n",
              "      <td>5.0</td>\n",
              "      <td>3.6</td>\n",
              "      <td>0</td>\n",
              "      <td>0.172105</td>\n",
              "      <td>1.250998</td>\n",
              "      <td>1.706933</td>\n",
              "      <td>0</td>\n",
              "      <td>r</td>\n",
              "    </tr>\n",
              "    <tr>\n",
              "      <th>...</th>\n",
              "      <td>...</td>\n",
              "      <td>...</td>\n",
              "      <td>...</td>\n",
              "      <td>...</td>\n",
              "      <td>...</td>\n",
              "      <td>...</td>\n",
              "      <td>...</td>\n",
              "      <td>...</td>\n",
              "    </tr>\n",
              "    <tr>\n",
              "      <th>145</th>\n",
              "      <td>6.7</td>\n",
              "      <td>3.0</td>\n",
              "      <td>2</td>\n",
              "      <td>1.747232</td>\n",
              "      <td>0.797870</td>\n",
              "      <td>0.114978</td>\n",
              "      <td>2</td>\n",
              "      <td>b</td>\n",
              "    </tr>\n",
              "    <tr>\n",
              "      <th>146</th>\n",
              "      <td>6.3</td>\n",
              "      <td>2.5</td>\n",
              "      <td>2</td>\n",
              "      <td>1.592363</td>\n",
              "      <td>0.453206</td>\n",
              "      <td>0.554635</td>\n",
              "      <td>1</td>\n",
              "      <td>g</td>\n",
              "    </tr>\n",
              "    <tr>\n",
              "      <th>147</th>\n",
              "      <td>6.5</td>\n",
              "      <td>3.0</td>\n",
              "      <td>2</td>\n",
              "      <td>1.554098</td>\n",
              "      <td>0.609094</td>\n",
              "      <td>0.091761</td>\n",
              "      <td>2</td>\n",
              "      <td>b</td>\n",
              "    </tr>\n",
              "    <tr>\n",
              "      <th>148</th>\n",
              "      <td>6.2</td>\n",
              "      <td>3.4</td>\n",
              "      <td>2</td>\n",
              "      <td>1.194328</td>\n",
              "      <td>0.683078</td>\n",
              "      <td>0.576212</td>\n",
              "      <td>2</td>\n",
              "      <td>b</td>\n",
              "    </tr>\n",
              "    <tr>\n",
              "      <th>149</th>\n",
              "      <td>5.9</td>\n",
              "      <td>3.0</td>\n",
              "      <td>2</td>\n",
              "      <td>0.991171</td>\n",
              "      <td>0.232800</td>\n",
              "      <td>0.688491</td>\n",
              "      <td>1</td>\n",
              "      <td>g</td>\n",
              "    </tr>\n",
              "  </tbody>\n",
              "</table>\n",
              "<p>150 rows × 8 columns</p>\n",
              "</div>"
            ],
            "text/plain": [
              "       x    y  cluster  distance_from_0  distance_from_1  distance_from_2  \\\n",
              "0    5.1  3.5        0         0.118406         1.109863         1.578233   \n",
              "1    4.9  3.0        0         0.440931         1.061224         1.688200   \n",
              "2    4.7  3.2        0         0.381602         1.308662         1.901478   \n",
              "3    4.6  3.1        0         0.521939         1.376153         1.991989   \n",
              "4    5.0  3.6        0         0.172105         1.250998         1.706933   \n",
              "..   ...  ...      ...              ...              ...              ...   \n",
              "145  6.7  3.0        2         1.747232         0.797870         0.114978   \n",
              "146  6.3  2.5        2         1.592363         0.453206         0.554635   \n",
              "147  6.5  3.0        2         1.554098         0.609094         0.091761   \n",
              "148  6.2  3.4        2         1.194328         0.683078         0.576212   \n",
              "149  5.9  3.0        2         0.991171         0.232800         0.688491   \n",
              "\n",
              "     closest color  \n",
              "0          0     r  \n",
              "1          0     r  \n",
              "2          0     r  \n",
              "3          0     r  \n",
              "4          0     r  \n",
              "..       ...   ...  \n",
              "145        2     b  \n",
              "146        1     g  \n",
              "147        2     b  \n",
              "148        2     b  \n",
              "149        1     g  \n",
              "\n",
              "[150 rows x 8 columns]"
            ]
          },
          "execution_count": 12,
          "metadata": {},
          "output_type": "execute_result"
        }
      ],
      "source": [
        "df"
      ]
    },
    {
      "cell_type": "markdown",
      "id": "3443613b",
      "metadata": {
        "papermill": {
          "duration": 0.007343,
          "end_time": "2022-08-31T09:00:15.642629",
          "exception": false,
          "start_time": "2022-08-31T09:00:15.635286",
          "status": "completed"
        },
        "tags": [],
        "id": "3443613b"
      },
      "source": [
        "### Visualisation of clusters with colors:"
      ]
    },
    {
      "cell_type": "code",
      "execution_count": null,
      "id": "79c0ffac",
      "metadata": {
        "execution": {
          "iopub.execute_input": "2022-08-31T09:00:15.660297Z",
          "iopub.status.busy": "2022-08-31T09:00:15.659686Z",
          "iopub.status.idle": "2022-08-31T09:00:15.815279Z",
          "shell.execute_reply": "2022-08-31T09:00:15.814598Z"
        },
        "papermill": {
          "duration": 0.166444,
          "end_time": "2022-08-31T09:00:15.816979",
          "exception": false,
          "start_time": "2022-08-31T09:00:15.650535",
          "status": "completed"
        },
        "scrolled": true,
        "tags": [],
        "id": "79c0ffac",
        "outputId": "2f072430-ed64-4cef-a29f-77527dd0e3ec"
      },
      "outputs": [
        {
          "data": {
            "image/png": "[encoded data removed]",
            "text/plain": [
              "<Figure size 360x360 with 1 Axes>"
            ]
          },
          "metadata": {
            "needs_background": "light"
          },
          "output_type": "display_data"
        }
      ],
      "source": [
        "fig = plt.figure(figsize=(5, 5))\n",
        "plt.scatter(df['x'], df['y'], color=df['color'], alpha=0.3)\n",
        "for i in centroids.keys():\n",
        "    plt.scatter(*centroids[i], color=colmap[i], edgecolor='k')\n",
        "\n",
        "plt.show()"
      ]
    },
    {
      "cell_type": "markdown",
      "id": "51c75723",
      "metadata": {
        "papermill": {
          "duration": 0.007593,
          "end_time": "2022-08-31T09:00:15.832627",
          "exception": false,
          "start_time": "2022-08-31T09:00:15.825034",
          "status": "completed"
        },
        "tags": [],
        "id": "51c75723"
      },
      "source": [
        "# Stage 3: Update Stage"
      ]
    },
    {
      "cell_type": "markdown",
      "id": "fc2ca24d",
      "metadata": {
        "papermill": {
          "duration": 0.007517,
          "end_time": "2022-08-31T09:00:15.847981",
          "exception": false,
          "start_time": "2022-08-31T09:00:15.840464",
          "status": "completed"
        },
        "tags": [],
        "id": "fc2ca24d"
      },
      "source": [
        "### Update function : Updating the centroids"
      ]
    },
    {
      "cell_type": "code",
      "execution_count": null,
      "id": "3e2686e7",
      "metadata": {
        "execution": {
          "iopub.execute_input": "2022-08-31T09:00:15.865319Z",
          "iopub.status.busy": "2022-08-31T09:00:15.864944Z",
          "iopub.status.idle": "2022-08-31T09:00:15.870759Z",
          "shell.execute_reply": "2022-08-31T09:00:15.869423Z"
        },
        "papermill": {
          "duration": 0.016824,
          "end_time": "2022-08-31T09:00:15.872607",
          "exception": false,
          "start_time": "2022-08-31T09:00:15.855783",
          "status": "completed"
        },
        "tags": [],
        "id": "3e2686e7"
      },
      "outputs": [],
      "source": [
        "def update(k):\n",
        "    for i in range(3):\n",
        "        centroids[i][0] = np.mean(df[df['closest'] == i]['x'])\n",
        "        centroids[i][1] = np.mean(df[df['closest'] == i]['y'])\n",
        "    return k"
      ]
    },
    {
      "cell_type": "code",
      "execution_count": null,
      "id": "7025b194",
      "metadata": {
        "execution": {
          "iopub.execute_input": "2022-08-31T09:00:15.889703Z",
          "iopub.status.busy": "2022-08-31T09:00:15.889331Z",
          "iopub.status.idle": "2022-08-31T09:00:15.899767Z",
          "shell.execute_reply": "2022-08-31T09:00:15.898932Z"
        },
        "papermill": {
          "duration": 0.021321,
          "end_time": "2022-08-31T09:00:15.901690",
          "exception": false,
          "start_time": "2022-08-31T09:00:15.880369",
          "status": "completed"
        },
        "tags": [],
        "id": "7025b194",
        "outputId": "462979ce-f013-4683-b2dd-ba5d105a1f6b"
      },
      "outputs": [
        {
          "data": {
            "text/plain": [
              "{0: [5.009433962264151, 3.3830188679245285],\n",
              " 1: [5.806122448979591, 2.693877551020408],\n",
              " 2: [6.802083333333333, 3.06875]}"
            ]
          },
          "execution_count": 15,
          "metadata": {},
          "output_type": "execute_result"
        }
      ],
      "source": [
        "centroids = update(centroids)\n",
        "centroids"
      ]
    },
    {
      "cell_type": "markdown",
      "id": "69b4a254",
      "metadata": {
        "papermill": {
          "duration": 0.007772,
          "end_time": "2022-08-31T09:00:15.917464",
          "exception": false,
          "start_time": "2022-08-31T09:00:15.909692",
          "status": "completed"
        },
        "tags": [],
        "id": "69b4a254"
      },
      "source": [
        "### Visualising the graph with updated centroids"
      ]
    },
    {
      "cell_type": "code",
      "execution_count": null,
      "id": "e581a695",
      "metadata": {
        "execution": {
          "iopub.execute_input": "2022-08-31T09:00:15.936203Z",
          "iopub.status.busy": "2022-08-31T09:00:15.935842Z",
          "iopub.status.idle": "2022-08-31T09:00:16.096481Z",
          "shell.execute_reply": "2022-08-31T09:00:16.095454Z"
        },
        "papermill": {
          "duration": 0.172189,
          "end_time": "2022-08-31T09:00:16.098766",
          "exception": false,
          "start_time": "2022-08-31T09:00:15.926577",
          "status": "completed"
        },
        "tags": [],
        "id": "e581a695",
        "outputId": "ce14ba04-f06f-4d04-bd69-5f71cba7d46a"
      },
      "outputs": [
        {
          "data": {
            "image/png": "[encoded data removed]",
            "text/plain": [
              "<Figure size 360x360 with 1 Axes>"
            ]
          },
          "metadata": {
            "needs_background": "light"
          },
          "output_type": "display_data"
        }
      ],
      "source": [
        "fig = plt.figure(figsize=(5, 5))\n",
        "plt.scatter(df['x'], df['y'], color=df['color'], alpha=0.3)\n",
        "for i in centroids.keys():\n",
        "    plt.scatter(*centroids[i], color=colmap[i], edgecolor='k')\n",
        "\n",
        "plt.show()"
      ]
    },
    {
      "cell_type": "markdown",
      "id": "e834ad0c",
      "metadata": {
        "papermill": {
          "duration": 0.0083,
          "end_time": "2022-08-31T09:00:16.115794",
          "exception": false,
          "start_time": "2022-08-31T09:00:16.107494",
          "status": "completed"
        },
        "tags": [],
        "id": "e834ad0c"
      },
      "source": [
        "## Repeat assignment stage to to ressign the points with clusters"
      ]
    },
    {
      "cell_type": "code",
      "execution_count": null,
      "id": "ce62fe4c",
      "metadata": {
        "execution": {
          "iopub.execute_input": "2022-08-31T09:00:16.135283Z",
          "iopub.status.busy": "2022-08-31T09:00:16.134422Z",
          "iopub.status.idle": "2022-08-31T09:00:16.143581Z",
          "shell.execute_reply": "2022-08-31T09:00:16.142863Z"
        },
        "papermill": {
          "duration": 0.021059,
          "end_time": "2022-08-31T09:00:16.145610",
          "exception": false,
          "start_time": "2022-08-31T09:00:16.124551",
          "status": "completed"
        },
        "tags": [],
        "id": "ce62fe4c"
      },
      "outputs": [],
      "source": [
        "df = assignment(df, centroids)"
      ]
    },
    {
      "cell_type": "markdown",
      "id": "0ae8a6cb",
      "metadata": {
        "papermill": {
          "duration": 0.008568,
          "end_time": "2022-08-31T09:00:16.163106",
          "exception": false,
          "start_time": "2022-08-31T09:00:16.154538",
          "status": "completed"
        },
        "tags": [],
        "id": "0ae8a6cb"
      },
      "source": [
        "### Visualising the updated graph"
      ]
    },
    {
      "cell_type": "code",
      "execution_count": null,
      "id": "061521bc",
      "metadata": {
        "execution": {
          "iopub.execute_input": "2022-08-31T09:00:16.182046Z",
          "iopub.status.busy": "2022-08-31T09:00:16.181447Z",
          "iopub.status.idle": "2022-08-31T09:00:16.337559Z",
          "shell.execute_reply": "2022-08-31T09:00:16.336246Z"
        },
        "papermill": {
          "duration": 0.168437,
          "end_time": "2022-08-31T09:00:16.340207",
          "exception": false,
          "start_time": "2022-08-31T09:00:16.171770",
          "status": "completed"
        },
        "tags": [],
        "id": "061521bc",
        "outputId": "cada1b38-77a8-4170-dae1-b3b77e277ac5"
      },
      "outputs": [
        {
          "data": {
            "image/png": "[encoded data removed]",
            "text/plain": [
              "<Figure size 360x360 with 1 Axes>"
            ]
          },
          "metadata": {
            "needs_background": "light"
          },
          "output_type": "display_data"
        }
      ],
      "source": [
        "fig = plt.figure(figsize=(5, 5))\n",
        "plt.scatter(df['x'], df['y'], color=df['color'], alpha=0.3)\n",
        "for i in centroids.keys():\n",
        "    plt.scatter(centroids[i][0],centroids[i][1], color=colmap[i], edgecolor='k')\n",
        "plt.show()"
      ]
    },
    {
      "cell_type": "markdown",
      "id": "57ca3d59",
      "metadata": {
        "papermill": {
          "duration": 0.008797,
          "end_time": "2022-08-31T09:00:16.358423",
          "exception": false,
          "start_time": "2022-08-31T09:00:16.349626",
          "status": "completed"
        },
        "tags": [],
        "id": "57ca3d59"
      },
      "source": [
        "## Continuing until all assigned clusters don't change any more"
      ]
    },
    {
      "cell_type": "code",
      "execution_count": null,
      "id": "0487688d",
      "metadata": {
        "execution": {
          "iopub.execute_input": "2022-08-31T09:00:16.378662Z",
          "iopub.status.busy": "2022-08-31T09:00:16.378024Z",
          "iopub.status.idle": "2022-08-31T09:00:16.398854Z",
          "shell.execute_reply": "2022-08-31T09:00:16.398149Z"
        },
        "papermill": {
          "duration": 0.033461,
          "end_time": "2022-08-31T09:00:16.400971",
          "exception": false,
          "start_time": "2022-08-31T09:00:16.367510",
          "status": "completed"
        },
        "tags": [],
        "id": "0487688d"
      },
      "outputs": [],
      "source": [
        "while True:\n",
        "    closest_centroids = df['closest'].copy(deep=True)\n",
        "    centroids = update(centroids)\n",
        "    df = assignment(df, centroids)\n",
        "    if closest_centroids.equals(df['closest']):\n",
        "        break"
      ]
    },
    {
      "cell_type": "markdown",
      "id": "a811e447",
      "metadata": {
        "papermill": {
          "duration": 0.009201,
          "end_time": "2022-08-31T09:00:16.419585",
          "exception": false,
          "start_time": "2022-08-31T09:00:16.410384",
          "status": "completed"
        },
        "tags": [],
        "id": "a811e447"
      },
      "source": [
        "# Final Result :"
      ]
    },
    {
      "cell_type": "code",
      "execution_count": null,
      "id": "11a0754e",
      "metadata": {
        "execution": {
          "iopub.execute_input": "2022-08-31T09:00:16.439206Z",
          "iopub.status.busy": "2022-08-31T09:00:16.438833Z",
          "iopub.status.idle": "2022-08-31T09:00:16.600138Z",
          "shell.execute_reply": "2022-08-31T09:00:16.598933Z"
        },
        "papermill": {
          "duration": 0.173891,
          "end_time": "2022-08-31T09:00:16.602584",
          "exception": false,
          "start_time": "2022-08-31T09:00:16.428693",
          "status": "completed"
        },
        "tags": [],
        "id": "11a0754e",
        "outputId": "3f4d1662-2f4e-4ac2-9ab4-d825fbf2bd14"
      },
      "outputs": [
        {
          "data": {
            "image/png": "[encoded data removed]",
            "text/plain": [
              "<Figure size 360x360 with 1 Axes>"
            ]
          },
          "metadata": {
            "needs_background": "light"
          },
          "output_type": "display_data"
        }
      ],
      "source": [
        "fig = plt.figure(figsize=(5, 5))\n",
        "plt.scatter(df['x'], df['y'], color=df['color'])\n",
        "for i in centroids.keys():\n",
        "    plt.scatter(centroids[i][0],centroids[i][1], color=colmap[i], edgecolor='k')\n",
        "\n",
        "plt.show()"
      ]
    }
  ],
  "metadata": {
    "kernelspec": {
      "display_name": "Python 3",
      "language": "python",
      "name": "python3"
    },
    "language_info": {
      "codemirror_mode": {
        "name": "ipython",
        "version": 3
      },
      "file_extension": ".py",
      "mimetype": "text/x-python",
      "name": "python",
      "nbconvert_exporter": "python",
      "pygments_lexer": "ipython3",
      "version": "3.7.12"
    },
    "papermill": {
      "default_parameters": {},
      "duration": 10.823368,
      "end_time": "2022-08-31T09:00:17.331421",
      "environment_variables": {},
      "exception": null,
      "input_path": "__notebook__.ipynb",
      "output_path": "__notebook__.ipynb",
      "parameters": {},
      "start_time": "2022-08-31T09:00:06.508053",
      "version": "2.3.4"
    },
    "colab": {
      "provenance": []
    }
  },
  "nbformat": 4,
  "nbformat_minor": 5
}